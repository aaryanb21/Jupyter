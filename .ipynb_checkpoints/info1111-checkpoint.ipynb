{
 "cells": [
  {
   "cell_type": "code",
   "execution_count": 33,
   "id": "08fca843-737c-4e1f-91cf-d9afd2ac5dd8",
   "metadata": {
    "tags": []
   },
   "outputs": [
    {
     "data": {
      "text/html": [
       "\n",
       "    <style> body {font-family: \"Roboto Condensed Light\", \"Roboto Condensed\";} h2 {padding: 10px 12px; background-color: #E64626; position: static; color: #ffffff; font-size: 40px;} .text_cell_render p { font-size: 15px; } .text_cell_render h1 { font-size: 30px; } h1 {padding: 10px 12px; background-color: #E64626; color: #ffffff; font-size: 40px;} .text_cell_render h3 { padding: 10px 12px; background-color: #0148A4; position: static; color: #ffffff; font-size: 20px;} h4:before{ \n",
       "    content: \"@\"; font-family:\"Wingdings\"; font-style:regular; margin-right: 4px;} .text_cell_render h4 {padding: 8px; font-family: \"Roboto Condensed Light\"; position: static; font-style: italic; background-color: #FFB800; color: #ffffff; font-size: 18px; text-align: center; border-radius: 5px;}input[type=submit] {background-color: #E64626; border: solid; border-color: #734036; color: white; padding: 8px 16px; text-decoration: none; margin: 4px 2px; cursor: pointer; border-radius: 20px;}</style>\n"
      ],
      "text/plain": [
       "<IPython.core.display.HTML object>"
      ]
     },
     "execution_count": 33,
     "metadata": {},
     "output_type": "execute_result"
    }
   ],
   "source": [
    "from IPython.display import HTML\n",
    "HTML('''\n",
    "    <style> body {font-family: \"Roboto Condensed Light\", \"Roboto Condensed\";} h2 {padding: 10px 12px; background-color: #E64626; position: static; color: #ffffff; font-size: 40px;} .text_cell_render p { font-size: 15px; } .text_cell_render h1 { font-size: 30px; } h1 {padding: 10px 12px; background-color: #E64626; color: #ffffff; font-size: 40px;} .text_cell_render h3 { padding: 10px 12px; background-color: #0148A4; position: static; color: #ffffff; font-size: 20px;} h4:before{ \n",
    "    content: \"@\"; font-family:\"Wingdings\"; font-style:regular; margin-right: 4px;} .text_cell_render h4 {padding: 8px; font-family: \"Roboto Condensed Light\"; position: static; font-style: italic; background-color: #FFB800; color: #ffffff; font-size: 18px; text-align: center; border-radius: 5px;}input[type=submit] {background-color: #E64626; border: solid; border-color: #734036; color: white; padding: 8px 16px; text-decoration: none; margin: 4px 2px; cursor: pointer; border-radius: 20px;}</style>\n",
    "''')"
   ]
  },
  {
   "cell_type": "markdown",
   "id": "18fbe243-d938-4de6-8a2b-84d222ac81bd",
   "metadata": {},
   "source": [
    "# How to ingest data into python"
   ]
  },
  {
   "cell_type": "markdown",
   "id": "889383fb-76ed-491b-8a7e-5b3b5c658a42",
   "metadata": {},
   "source": [
    "In this notebook, we will taking a look at how to ingest data into python and work on it using libraries such as pandas and numpy."
   ]
  },
  {
   "cell_type": "markdown",
   "id": "18158d39-13a0-4342-83af-f18fd275388b",
   "metadata": {},
   "source": [
    "We make sure that the kernel we have selected is python. After this we start by importing the required libraries. We can see this in the code block below. "
   ]
  },
  {
   "cell_type": "code",
   "execution_count": 34,
   "id": "232d9a48-83ee-4a10-bc2e-842f7d3790f5",
   "metadata": {
    "tags": []
   },
   "outputs": [],
   "source": [
    "import pandas as pd\n",
    "import numpy as np"
   ]
  },
  {
   "cell_type": "markdown",
   "id": "cafa1cb5-5650-483a-bbbd-5075ff742d6f",
   "metadata": {},
   "source": [
    "Once our libraries have been imported. We can start working on our dataset. For this notebook, we will use a csv file we found online to practice our skills. Before executing the next command, make sure that the csv file is in the same folder as the notebook."
   ]
  },
  {
   "cell_type": "code",
   "execution_count": 35,
   "id": "67dac9c2-6355-4309-8812-f3e63a85a505",
   "metadata": {
    "tags": []
   },
   "outputs": [],
   "source": [
    "df = pd.read_csv(\"people.csv\")"
   ]
  },
  {
   "cell_type": "markdown",
   "id": "a05bdaaf-daf3-4fac-a886-c0282e5eadde",
   "metadata": {},
   "source": [
    "Once our data is loaded into python, we can use some functions of pandas library such as <ins><strong>.head()</strong></ins> and <ins><strong>.info()</strong></ins> to explore the data."
   ]
  },
  {
   "cell_type": "code",
   "execution_count": 36,
   "id": "b8dffba7-f828-4da9-ab63-0fa266516ff8",
   "metadata": {
    "tags": []
   },
   "outputs": [
    {
     "data": {
      "text/html": [
       "<div>\n",
       "<style scoped>\n",
       "    .dataframe tbody tr th:only-of-type {\n",
       "        vertical-align: middle;\n",
       "    }\n",
       "\n",
       "    .dataframe tbody tr th {\n",
       "        vertical-align: top;\n",
       "    }\n",
       "\n",
       "    .dataframe thead th {\n",
       "        text-align: right;\n",
       "    }\n",
       "</style>\n",
       "<table border=\"1\" class=\"dataframe\">\n",
       "  <thead>\n",
       "    <tr style=\"text-align: right;\">\n",
       "      <th></th>\n",
       "      <th>Index</th>\n",
       "      <th>User Id</th>\n",
       "      <th>First Name</th>\n",
       "      <th>Last Name</th>\n",
       "      <th>Sex</th>\n",
       "      <th>Email</th>\n",
       "      <th>Phone</th>\n",
       "      <th>Date of birth</th>\n",
       "      <th>Job Title</th>\n",
       "    </tr>\n",
       "  </thead>\n",
       "  <tbody>\n",
       "    <tr>\n",
       "      <th>0</th>\n",
       "      <td>1</td>\n",
       "      <td>8717bbf45cCDbEe</td>\n",
       "      <td>Shelia</td>\n",
       "      <td>Mahoney</td>\n",
       "      <td>Male</td>\n",
       "      <td>pwarner@example.org</td>\n",
       "      <td>857.139.8239</td>\n",
       "      <td>2014-01-27</td>\n",
       "      <td>Probation officer</td>\n",
       "    </tr>\n",
       "    <tr>\n",
       "      <th>1</th>\n",
       "      <td>2</td>\n",
       "      <td>3d5AD30A4cD38ed</td>\n",
       "      <td>Jo</td>\n",
       "      <td>Rivers</td>\n",
       "      <td>Female</td>\n",
       "      <td>fergusonkatherine@example.net</td>\n",
       "      <td>+1-950-759-8687</td>\n",
       "      <td>1931-07-26</td>\n",
       "      <td>Dancer</td>\n",
       "    </tr>\n",
       "    <tr>\n",
       "      <th>2</th>\n",
       "      <td>3</td>\n",
       "      <td>810Ce0F276Badec</td>\n",
       "      <td>Sheryl</td>\n",
       "      <td>Lowery</td>\n",
       "      <td>Female</td>\n",
       "      <td>fhoward@example.org</td>\n",
       "      <td>(599)782-0605</td>\n",
       "      <td>2013-11-25</td>\n",
       "      <td>Copy</td>\n",
       "    </tr>\n",
       "    <tr>\n",
       "      <th>3</th>\n",
       "      <td>4</td>\n",
       "      <td>BF2a889C00f0cE1</td>\n",
       "      <td>Whitney</td>\n",
       "      <td>Hooper</td>\n",
       "      <td>Male</td>\n",
       "      <td>zjohnston@example.com</td>\n",
       "      <td>+1-939-130-6258</td>\n",
       "      <td>2012-11-17</td>\n",
       "      <td>Counselling psychologist</td>\n",
       "    </tr>\n",
       "    <tr>\n",
       "      <th>4</th>\n",
       "      <td>5</td>\n",
       "      <td>9afFEafAe1CBBB9</td>\n",
       "      <td>Lindsey</td>\n",
       "      <td>Rice</td>\n",
       "      <td>Female</td>\n",
       "      <td>elin@example.net</td>\n",
       "      <td>(390)417-1635x3010</td>\n",
       "      <td>1923-04-15</td>\n",
       "      <td>Biomedical engineer</td>\n",
       "    </tr>\n",
       "  </tbody>\n",
       "</table>\n",
       "</div>"
      ],
      "text/plain": [
       "   Index          User Id First Name Last Name     Sex  \\\n",
       "0      1  8717bbf45cCDbEe     Shelia   Mahoney    Male   \n",
       "1      2  3d5AD30A4cD38ed         Jo    Rivers  Female   \n",
       "2      3  810Ce0F276Badec     Sheryl    Lowery  Female   \n",
       "3      4  BF2a889C00f0cE1    Whitney    Hooper    Male   \n",
       "4      5  9afFEafAe1CBBB9    Lindsey      Rice  Female   \n",
       "\n",
       "                           Email               Phone Date of birth  \\\n",
       "0            pwarner@example.org        857.139.8239    2014-01-27   \n",
       "1  fergusonkatherine@example.net     +1-950-759-8687    1931-07-26   \n",
       "2            fhoward@example.org       (599)782-0605    2013-11-25   \n",
       "3          zjohnston@example.com     +1-939-130-6258    2012-11-17   \n",
       "4               elin@example.net  (390)417-1635x3010    1923-04-15   \n",
       "\n",
       "                  Job Title  \n",
       "0         Probation officer  \n",
       "1                    Dancer  \n",
       "2                      Copy  \n",
       "3  Counselling psychologist  \n",
       "4       Biomedical engineer  "
      ]
     },
     "execution_count": 36,
     "metadata": {},
     "output_type": "execute_result"
    }
   ],
   "source": [
    "df.head()"
   ]
  },
  {
   "cell_type": "code",
   "execution_count": 37,
   "id": "244d11cd-e4e0-413a-82a6-f217c140ed84",
   "metadata": {
    "tags": []
   },
   "outputs": [
    {
     "name": "stdout",
     "output_type": "stream",
     "text": [
      "<class 'pandas.core.frame.DataFrame'>\n",
      "RangeIndex: 1000 entries, 0 to 999\n",
      "Data columns (total 9 columns):\n",
      " #   Column         Non-Null Count  Dtype \n",
      "---  ------         --------------  ----- \n",
      " 0   Index          1000 non-null   int64 \n",
      " 1   User Id        1000 non-null   object\n",
      " 2   First Name     1000 non-null   object\n",
      " 3   Last Name      1000 non-null   object\n",
      " 4   Sex            1000 non-null   object\n",
      " 5   Email          1000 non-null   object\n",
      " 6   Phone          1000 non-null   object\n",
      " 7   Date of birth  1000 non-null   object\n",
      " 8   Job Title      1000 non-null   object\n",
      "dtypes: int64(1), object(8)\n",
      "memory usage: 70.4+ KB\n"
     ]
    }
   ],
   "source": [
    "df.info()"
   ]
  },
  {
   "cell_type": "markdown",
   "id": "109484e2-5c0e-47f1-af4a-70c83434fe5f",
   "metadata": {},
   "source": [
    "The next step in working with data is data cleaning. This can also be done with the python library pandas. We can use the <ins><strong>.dropna()</strong></ins> which drops all null values."
   ]
  },
  {
   "cell_type": "code",
   "execution_count": 38,
   "id": "ce9cef9a-a657-4a2e-8349-69ebc62a6f8b",
   "metadata": {
    "tags": []
   },
   "outputs": [],
   "source": [
    "df = df.dropna()"
   ]
  },
  {
   "cell_type": "markdown",
   "id": "f8d47444-ab09-410f-8e2c-ca9c727ad1e3",
   "metadata": {},
   "source": [
    "Once our data is clean, we start performing some basic data manipulation tasks. We will start by converting the Date of birth column from type object to type datetime."
   ]
  },
  {
   "cell_type": "code",
   "execution_count": 39,
   "id": "7d33b49d-0114-4333-94ca-b377e0932a39",
   "metadata": {
    "tags": []
   },
   "outputs": [],
   "source": [
    "df['Date of birth'] = pd.to_datetime(df['Date of birth'], errors='coerce')"
   ]
  },
  {
   "cell_type": "markdown",
   "id": "47c7a40d-5f56-4b83-b533-d8f7601b4d68",
   "metadata": {},
   "source": [
    "After this we will sort our data from to only include people born after 2000. We can do this with a simple panda command."
   ]
  },
  {
   "cell_type": "code",
   "execution_count": 40,
   "id": "47284895-87ca-4892-a065-dbe65d7608f3",
   "metadata": {
    "tags": []
   },
   "outputs": [],
   "source": [
    "df = df[df['Date of birth'] > '2000-01-01']\n"
   ]
  },
  {
   "cell_type": "markdown",
   "id": "395ab4c7-9599-4cd9-840f-669c1641e689",
   "metadata": {},
   "source": [
    "Now that we have some data, we can use another library in python to visualize our data. In the next code block, we will start by importing a function from the matplotlib library."
   ]
  },
  {
   "cell_type": "code",
   "execution_count": 41,
   "id": "5b40533d-f8fd-4d97-ab42-0df082ddd362",
   "metadata": {
    "tags": []
   },
   "outputs": [],
   "source": [
    "import matplotlib.pyplot as plt"
   ]
  },
  {
   "cell_type": "markdown",
   "id": "a8071024-2e6a-4ff1-bd1d-cae4b7eb13cc",
   "metadata": {},
   "source": [
    "Now, we will use the dataframe we have cleaned and performed operations on so far and we will visualize data from it so we can analyze trends or undertsand this data better. We need to keep in mind that this graph only represents the number of people born after 2000 in our dataset and this is not representative for the whole population."
   ]
  },
  {
   "cell_type": "code",
   "execution_count": 42,
   "id": "d09271d4-bddb-4f41-8c38-dd1353d79ffb",
   "metadata": {
    "tags": []
   },
   "outputs": [
    {
     "data": {
      "image/png": "[encoded data removed]",
      "text/plain": [
       "<Figure size 1000x600 with 1 Axes>"
      ]
     },
     "metadata": {},
     "output_type": "display_data"
    }
   ],
   "source": [
    "df['Year of Birth'] = df['Date of birth'].dt.year\n",
    "birth_year_counts = df['Year of Birth'].value_counts().sort_index()\n",
    "\n",
    "plt.figure(figsize=(10, 6))\n",
    "plt.bar(birth_year_counts.index, birth_year_counts.values)\n",
    "plt.title('Number of People Born Each Year After 2000')\n",
    "plt.xlabel('Year of Birth')\n",
    "plt.ylabel('Number of People')\n",
    "plt.xticks(birth_year_counts.index, rotation=45)\n",
    "plt.show()"
   ]
  },
  {
   "cell_type": "markdown",
   "id": "b42dd5ea-7932-46ab-af87-98bdec3e2ba4",
   "metadata": {},
   "source": [
    "In this notebook, we saw how to go from data ingestion to data visualisation with python. We can do this for various different datasets and we also saw how effective Jupyter Notebooks are at teaching new concepts due its blend of markdown, code, and visualisation. "
   ]
  }
 ],
 "metadata": {
  "kernelspec": {
   "display_name": "Python 3 (ipykernel)",
   "language": "python",
   "name": "python3"
  },
  "language_info": {
   "codemirror_mode": {
    "name": "ipython",
    "version": 3
   },
   "file_extension": ".py",
   "mimetype": "text/x-python",
   "name": "python",
   "nbconvert_exporter": "python",
   "pygments_lexer": "ipython3",
   "version": "3.11.5"
  }
 },
 "nbformat": 4,
 "nbformat_minor": 5
}
